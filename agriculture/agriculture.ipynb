{
 "cells": [
  {
   "cell_type": "code",
   "execution_count": 12,
   "id": "c458b4f0",
   "metadata": {},
   "outputs": [],
   "source": [
    "# All required libraries are imported here for you.\n",
    "import pandas as pd\n",
    "from sklearn.linear_model import LogisticRegression\n",
    "from sklearn.model_selection import train_test_split\n",
    "from sklearn import metrics\n"
   ]
  },
  {
   "cell_type": "code",
   "execution_count": 13,
   "id": "00387409",
   "metadata": {},
   "outputs": [],
   "source": [
    "# Load the dataset\n",
    "crops = pd.read_csv(\"soil_measures.csv\")\n",
    "\n",
    "# Write your code here\n",
    "# Split the dataset into features (X) and target variable (y)\n",
    "X = crops.drop(\"crop\", axis=1)\n",
    "y = crops[\"crop\"]"
   ]
  },
  {
   "cell_type": "code",
   "execution_count": 14,
   "id": "e820abd0",
   "metadata": {
    "scrolled": false
   },
   "outputs": [
    {
     "name": "stderr",
     "output_type": "stream",
     "text": [
      "C:\\Users\\Sara\\anaconda3\\Lib\\site-packages\\sklearn\\linear_model\\_logistic.py:460: ConvergenceWarning: lbfgs failed to converge (status=1):\n",
      "STOP: TOTAL NO. of ITERATIONS REACHED LIMIT.\n",
      "\n",
      "Increase the number of iterations (max_iter) or scale the data as shown in:\n",
      "    https://scikit-learn.org/stable/modules/preprocessing.html\n",
      "Please also refer to the documentation for alternative solver options:\n",
      "    https://scikit-learn.org/stable/modules/linear_model.html#logistic-regression\n",
      "  n_iter_i = _check_optimize_result(\n",
      "C:\\Users\\Sara\\anaconda3\\Lib\\site-packages\\sklearn\\linear_model\\_logistic.py:460: ConvergenceWarning: lbfgs failed to converge (status=1):\n",
      "STOP: TOTAL NO. of ITERATIONS REACHED LIMIT.\n",
      "\n",
      "Increase the number of iterations (max_iter) or scale the data as shown in:\n",
      "    https://scikit-learn.org/stable/modules/preprocessing.html\n",
      "Please also refer to the documentation for alternative solver options:\n",
      "    https://scikit-learn.org/stable/modules/linear_model.html#logistic-regression\n",
      "  n_iter_i = _check_optimize_result(\n",
      "C:\\Users\\Sara\\anaconda3\\Lib\\site-packages\\sklearn\\linear_model\\_logistic.py:460: ConvergenceWarning: lbfgs failed to converge (status=1):\n",
      "STOP: TOTAL NO. of ITERATIONS REACHED LIMIT.\n",
      "\n",
      "Increase the number of iterations (max_iter) or scale the data as shown in:\n",
      "    https://scikit-learn.org/stable/modules/preprocessing.html\n",
      "Please also refer to the documentation for alternative solver options:\n",
      "    https://scikit-learn.org/stable/modules/linear_model.html#logistic-regression\n",
      "  n_iter_i = _check_optimize_result(\n"
     ]
    },
    {
     "name": "stdout",
     "output_type": "stream",
     "text": [
      "Best Predictive Feature: {'K': 0.2863636363636364}\n"
     ]
    }
   ],
   "source": [
    "\n",
    "# Initialize variables to store the best predictive feature and its evaluation score\n",
    "best_predictive_feature = \"\"\n",
    "best_score = 0.0\n",
    "\n",
    "# Iterate over each feature\n",
    "for feature in X.columns:\n",
    "    # Split the data into training and testing sets\n",
    "    X_train, X_test, y_train, y_test = train_test_split(X[feature], y, test_size=0.2, random_state=42)\n",
    "    \n",
    "    # Reshape the feature data to match the expected input shape for logistic regression\n",
    "    X_train = X_train.values.reshape(-1, 1)\n",
    "    X_test = X_test.values.reshape(-1, 1)\n",
    "    \n",
    "    # Create a logistic regression model\n",
    "    model = LogisticRegression()    \n",
    "    # Fit the model on the training data\n",
    "    model.fit(X_train, y_train)\n",
    "    \n",
    "    # Predict the crop types for the testing data\n",
    "    y_pred = model.predict(X_test)\n",
    "    \n",
    "    # Evaluate the model using a metric of your choice (e.g., accuracy, F1-score, etc.)\n",
    "    score = metrics.accuracy_score(y_test, y_pred)\n",
    "    \n",
    "    # Check if the current feature has a higher score than the previous best score\n",
    "    if score > best_score:\n",
    "        best_score = score\n",
    "        best_predictive_feature = feature\n",
    "\n",
    "# Create the best_predictive_feature dictionary\n",
    "best_predictive_feature = {best_predictive_feature: best_score}\n",
    "\n",
    "# Print the best predictive feature and its evaluation score\n",
    "print(\"Best Predictive Feature:\", best_predictive_feature)"
   ]
  },
  {
   "cell_type": "code",
   "execution_count": null,
   "id": "e0d7b828",
   "metadata": {},
   "outputs": [],
   "source": []
  },
  {
   "cell_type": "code",
   "execution_count": null,
   "id": "3037e19f",
   "metadata": {},
   "outputs": [],
   "source": []
  }
 ],
 "metadata": {
  "kernelspec": {
   "display_name": "Python 3 (ipykernel)",
   "language": "python",
   "name": "python3"
  },
  "language_info": {
   "codemirror_mode": {
    "name": "ipython",
    "version": 3
   },
   "file_extension": ".py",
   "mimetype": "text/x-python",
   "name": "python",
   "nbconvert_exporter": "python",
   "pygments_lexer": "ipython3",
   "version": "3.11.5"
  }
 },
 "nbformat": 4,
 "nbformat_minor": 5
}
